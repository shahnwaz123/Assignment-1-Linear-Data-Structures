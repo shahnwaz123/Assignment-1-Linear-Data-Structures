{
 "cells": [
  {
   "cell_type": "markdown",
   "id": "c9a0df8f",
   "metadata": {},
   "source": [
    "## 1- Write Linear Search Algorithm"
   ]
  },
  {
   "cell_type": "code",
   "execution_count": 5,
   "id": "9c7ec3ea",
   "metadata": {},
   "outputs": [
    {
     "name": "stdout",
     "output_type": "stream",
     "text": [
      "Element found at index:  3\n"
     ]
    }
   ],
   "source": [
    "def linear_Search(list1, n, key):  \n",
    "    for i in range(0, n):  \n",
    "        if (list1[i] == key):  \n",
    "            return i  \n",
    "    return -1  \n",
    "  \n",
    "  \n",
    "list1 = [1 ,3, 5, 4, 7, 9]  \n",
    "key = 4  \n",
    "  \n",
    "n = len(list1)  \n",
    "res = linear_Search(list1, n, key)  \n",
    "if(res == -1):  \n",
    "    print(\"Element not found\")  \n",
    "else:  \n",
    "    print(\"Element found at index: \", res)  "
   ]
  },
  {
   "cell_type": "markdown",
   "id": "dc24bb8a",
   "metadata": {},
   "source": [
    "## 2- Write Binary Search Algorithm"
   ]
  },
  {
   "cell_type": "code",
   "execution_count": 11,
   "id": "7182584e",
   "metadata": {},
   "outputs": [
    {
     "name": "stdout",
     "output_type": "stream",
     "text": [
      "Element is present at index 3\n"
     ]
    }
   ],
   "source": [
    "def binary_search(list1, low, high,n):\n",
    "    if low <= high:\n",
    "        mid = (low+high)//2\n",
    "        if list1[mid] == n:\n",
    "            return mid\n",
    "        \n",
    "        elif list1[mid] > n:\n",
    "            return binary_search(list1,low,mid -1, n)\n",
    "        else:\n",
    "            return binary_search(list1, mid+1, high, n)\n",
    "    else:\n",
    "        return -1\n",
    "list1 = [22,32,45,65,78,12,23,45]\n",
    "n = 65\n",
    "\n",
    "res = binary_search(list1,0,len(list1)-1, n)\n",
    " \n",
    "if res != -1:\n",
    "    print(\"Element is present at index\", str(res))\n",
    "else:\n",
    "    print(\"Element is not present in list1\")\n",
    "        \n",
    "        "
   ]
  },
  {
   "cell_type": "markdown",
   "id": "7470efba",
   "metadata": {},
   "source": [
    "## 3- Implement a dictionary sort using bubble sort"
   ]
  },
  {
   "cell_type": "code",
   "execution_count": 13,
   "id": "21dff7fa",
   "metadata": {},
   "outputs": [
    {
     "name": "stdout",
     "output_type": "stream",
     "text": [
      "[1, 2, 4, 5, 7, 9]\n"
     ]
    }
   ],
   "source": [
    "def bubble_sort(k):\n",
    "    for i in range(len(k)-1):\n",
    "        for j in range(len(k)-1):\n",
    "            if k[j]>k[j+1]:\n",
    "                k[j],k[j+1]=k[j+1],k[j]\n",
    "    return k\n",
    "dict = {'a':1,'b':2,'c':7,'d':4,'e':5,'f':9}\n",
    "k=list(dict.values())\n",
    "print(bubble_sort(k))"
   ]
  },
  {
   "cell_type": "markdown",
   "id": "89d2f736",
   "metadata": {},
   "source": [
    "## 4- Sort an array of numbers using insertion sort "
   ]
  },
  {
   "cell_type": "code",
   "execution_count": 15,
   "id": "df5c5b7f",
   "metadata": {},
   "outputs": [
    {
     "name": "stdout",
     "output_type": "stream",
     "text": [
      "Sorted Array is:\n",
      "[1, 3, 4, 5, 9]\n"
     ]
    }
   ],
   "source": [
    "def insertionSort(array):\n",
    "    for step in range(1, len(array)):\n",
    "        key = array[step]\n",
    "        j = step - 1\n",
    "        while j >= 0 and key < array[j]:\n",
    "            array[j + 1] = array[j]\n",
    "            j = j - 1\n",
    "\n",
    "        array[j + 1] = key\n",
    "\n",
    "\n",
    "data = [9, 5, 1, 4, 3]\n",
    "insertionSort(data)\n",
    "print('Sorted Array is:')\n",
    "print(data)"
   ]
  },
  {
   "cell_type": "markdown",
   "id": "793ac176",
   "metadata": {},
   "source": [
    "## 5- Sort an array of numbers using selection sort"
   ]
  },
  {
   "cell_type": "code",
   "execution_count": 20,
   "id": "172cbb4f",
   "metadata": {},
   "outputs": [
    {
     "name": "stdout",
     "output_type": "stream",
     "text": [
      "[3, 5, 6, 9, 17, 32, 56]\n"
     ]
    }
   ],
   "source": [
    "def selectionSort(array):\n",
    "  n = len(array)\n",
    "  for i in range(n):\n",
    "    minimum = i\n",
    "\n",
    "    for j in range(i+1, n):\n",
    "      if (array[j] < array[minimum]):\n",
    "        minimum = j\n",
    "    temp = array[i]\n",
    "    array[i] = array[minimum]\n",
    "    array[minimum] = temp\n",
    "    \n",
    "  return array\n",
    "array = [17, 6, 3, 5, 9, 56, 32]\n",
    "print(selectionSort(array))"
   ]
  },
  {
   "cell_type": "code",
   "execution_count": null,
   "id": "a86c5510",
   "metadata": {},
   "outputs": [],
   "source": []
  }
 ],
 "metadata": {
  "kernelspec": {
   "display_name": "Python 3 (ipykernel)",
   "language": "python",
   "name": "python3"
  },
  "language_info": {
   "codemirror_mode": {
    "name": "ipython",
    "version": 3
   },
   "file_extension": ".py",
   "mimetype": "text/x-python",
   "name": "python",
   "nbconvert_exporter": "python",
   "pygments_lexer": "ipython3",
   "version": "3.9.6"
  }
 },
 "nbformat": 4,
 "nbformat_minor": 5
}
